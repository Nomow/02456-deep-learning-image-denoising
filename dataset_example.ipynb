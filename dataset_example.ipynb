{
 "cells": [
  {
   "cell_type": "code",
   "execution_count": 1,
   "id": "8afff2ad-d3bf-4827-af8a-5caa432cf730",
   "metadata": {},
   "outputs": [],
   "source": [
    "import torch\n",
    "import os\n",
    "import numpy as np\n",
    "from PIL import Image\n",
    "\n"
   ]
  },
  {
   "cell_type": "code",
   "execution_count": 2,
   "id": "ffc889f9-330a-49e0-bb80-ad2f6eeabbb9",
   "metadata": {},
   "outputs": [],
   "source": [
    "from data import load_cifar_10_data\n",
    "from dataset import Cifar10AutoEncoderDataset\n",
    "from utils import visualization"
   ]
  },
  {
   "cell_type": "code",
   "execution_count": null,
   "id": "84985dba-c120-442c-a665-b617eb44b43d",
   "metadata": {},
   "outputs": [],
   "source": []
  },
  {
   "cell_type": "code",
   "execution_count": 3,
   "id": "b503e591-4e70-43e2-b724-31df1676a542",
   "metadata": {},
   "outputs": [],
   "source": [
    "# unzip cifar 10 and put the path to load_cifar_10_data\n",
    "train_imgs, test_imgs = load_cifar_10_data(\"/src/data/cifar-10-batches-py\")\n",
    "# you can just take subset of images ci\n",
    "#tmp_train_imgs = train_imgs[0:500]"
   ]
  },
  {
   "cell_type": "code",
   "execution_count": 4,
   "id": "23bfda39-7896-443f-92ed-b9ccaeb086ed",
   "metadata": {},
   "outputs": [],
   "source": [
    "import albumentations as albu\n",
    "train_transform = [\n",
    "    ]\n",
    "\n",
    "train_transforms = albu.Compose(train_transform)\n",
    "\n",
    "train_transform = [\n",
    "    albu.Perspective(p=1),\n",
    "    ]\n",
    "\n",
    "preprocess = albu.Compose(train_transform)\n",
    "\n",
    "\n",
    "\n"
   ]
  },
  {
   "cell_type": "code",
   "execution_count": 5,
   "id": "4ee0c218-2b7d-4390-9243-594ddcf1d3c9",
   "metadata": {},
   "outputs": [],
   "source": [
    "train_dataset = Cifar10AutoEncoderDataset(train_imgs, train_transforms, train_transforms1)\n"
   ]
  },
  {
   "cell_type": "code",
   "execution_count": null,
   "id": "9701dd73-9c72-4363-a11c-b2affd280a93",
   "metadata": {},
   "outputs": [],
   "source": []
  },
  {
   "cell_type": "code",
   "execution_count": null,
   "id": "e65bad3f-13e7-43be-9e82-86ca7ebd864e",
   "metadata": {},
   "outputs": [],
   "source": []
  },
  {
   "cell_type": "code",
   "execution_count": 6,
   "id": "cc271697-b38b-4234-996b-93ffe0253ffd",
   "metadata": {},
   "outputs": [
    {
     "data": {
      "image/png": "[encoded data removed]",
      "text/plain": [
       "<Figure size 1152x360 with 2 Axes>"
      ]
     },
     "metadata": {},
     "output_type": "display_data"
    }
   ],
   "source": [
    "i = 1\n",
    "transformed = train_transforms(image=train_dataset[i][0])['image']\n",
    "visualization(original = train_dataset[i][0], transformed = transformed)"
   ]
  },
  {
   "cell_type": "code",
   "execution_count": null,
   "id": "d666632a-b7fa-4b22-99f4-2e0ffcac3631",
   "metadata": {},
   "outputs": [],
   "source": []
  }
 ],
 "metadata": {
  "kernelspec": {
   "display_name": "Python 3 (ipykernel)",
   "language": "python",
   "name": "python3"
  },
  "language_info": {
   "codemirror_mode": {
    "name": "ipython",
    "version": 3
   },
   "file_extension": ".py",
   "mimetype": "text/x-python",
   "name": "python",
   "nbconvert_exporter": "python",
   "pygments_lexer": "ipython3",
   "version": "3.7.10"
  }
 },
 "nbformat": 4,
 "nbformat_minor": 5
}
