{
 "cells": [
  {
   "cell_type": "code",
   "execution_count": 10,
   "id": "8afff2ad-d3bf-4827-af8a-5caa432cf730",
   "metadata": {},
   "outputs": [],
   "source": [
    "import torch\n",
    "import os\n",
    "import numpy as np\n",
    "from PIL import Image\n",
    "\n"
   ]
  },
  {
   "cell_type": "code",
   "execution_count": 11,
   "id": "ffc889f9-330a-49e0-bb80-ad2f6eeabbb9",
   "metadata": {},
   "outputs": [],
   "source": [
    "from data import load_cifar_10_data\n",
    "from dataset import Cifar10AutoEncoderDataset"
   ]
  },
  {
   "cell_type": "code",
   "execution_count": null,
   "id": "84985dba-c120-442c-a665-b617eb44b43d",
   "metadata": {},
   "outputs": [],
   "source": []
  },
  {
   "cell_type": "code",
   "execution_count": 18,
   "id": "b503e591-4e70-43e2-b724-31df1676a542",
   "metadata": {},
   "outputs": [
    {
     "data": {
      "text/plain": [
       "(500, 32, 32, 3)"
      ]
     },
     "execution_count": 18,
     "metadata": {},
     "output_type": "execute_result"
    }
   ],
   "source": [
    "# unzip cifar 10 and put the path to load_cifar_10_data\n",
    "train_imgs, test_imgs = load_cifar_10_data(\"/src/data/cifar-10-batches-py\")\n",
    "# you can just take subset of images ci\n",
    "#tmp_train_imgs = train_imgs[0:500]"
   ]
  },
  {
   "cell_type": "code",
   "execution_count": 13,
   "id": "4ee0c218-2b7d-4390-9243-594ddcf1d3c9",
   "metadata": {},
   "outputs": [],
   "source": [
    "train_dataset = Cifar10AutoEncoderDataset(train_imgs)"
   ]
  }
 ],
 "metadata": {
  "kernelspec": {
   "display_name": "Python 3 (ipykernel)",
   "language": "python",
   "name": "python3"
  },
  "language_info": {
   "codemirror_mode": {
    "name": "ipython",
    "version": 3
   },
   "file_extension": ".py",
   "mimetype": "text/x-python",
   "name": "python",
   "nbconvert_exporter": "python",
   "pygments_lexer": "ipython3",
   "version": "3.7.10"
  }
 },
 "nbformat": 4,
 "nbformat_minor": 5
}
